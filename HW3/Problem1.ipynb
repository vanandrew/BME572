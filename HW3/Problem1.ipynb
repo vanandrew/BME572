{
 "cells": [
  {
   "cell_type": "code",
   "execution_count": 1,
   "metadata": {},
   "outputs": [],
   "source": [
    "# from IPython.display import HTML\n",
    "# HTML('''<script>\n",
    "# code_show=true; \n",
    "# function code_toggle() {\n",
    "#  if (code_show){\n",
    "#  $('div.input').hide();\n",
    "#  } else {\n",
    "#  $('div.input').show();\n",
    "#  }\n",
    "#  code_show = !code_show\n",
    "# } \n",
    "# $( document ).ready(code_toggle);\n",
    "# </script>\n",
    "# <a href=\"javascript:code_toggle()\">\n",
    "# <button>Toggle Code</button></a>''')"
   ]
  },
  {
   "cell_type": "code",
   "execution_count": 2,
   "metadata": {},
   "outputs": [],
   "source": [
    "# import libraries\n",
    "import numpy as np\n",
    "import matplotlib.pyplot as plt\n",
    "\n",
    "# set random seed\n",
    "np.random.seed(1000)"
   ]
  },
  {
   "cell_type": "code",
   "execution_count": 3,
   "metadata": {},
   "outputs": [
    {
     "data": {
      "image/png": "[encoded data removed]",
      "text/plain": [
       "<Figure size 576x288 with 1 Axes>"
      ]
     },
     "metadata": {
      "needs_background": "light"
     },
     "output_type": "display_data"
    }
   ],
   "source": [
    "\"\"\"\n",
    "    Create dataset class\n",
    "\"\"\"\n",
    "class Dataset:\n",
    "    \"\"\"\n",
    "        Class that creates linear/non-linear datasets\n",
    "    \"\"\"\n",
    "    @classmethod\n",
    "    def linear(cls, features=2, samples=50):\n",
    "        \"\"\"\n",
    "            Creates linearly separable data\n",
    "                features: number of features for data\n",
    "                samples: number of samples\n",
    "        \"\"\"\n",
    "        # create random weight vector based on number of features\n",
    "        weights = cls._uniform_rand(features)\n",
    "        \n",
    "        # now create a bunch of random examples\n",
    "        examples = cls._uniform_rand(samples,features)\n",
    "        \n",
    "        # now do the inner product of the weights with the examples\n",
    "        decision = np.dot(examples,weights)\n",
    "        \n",
    "        # choose a random threshold\n",
    "        threshold = (decision.max() + decision.min())/2\n",
    "        class_assignment = 2*((decision > threshold)-0.5)\n",
    "        \n",
    "        # return assignment and examples\n",
    "        return class_assignment,examples\n",
    "        \n",
    "    @classmethod\n",
    "    def nonlinear(cls, features=2, samples=50):\n",
    "        \"\"\"\n",
    "            Creates non-linearly separable data\n",
    "                features: number of features for data\n",
    "                samples: number of samples\n",
    "        \"\"\"\n",
    "        # create random weight vector based on number of features\n",
    "        weights = cls._uniform_rand(features)\n",
    "        \n",
    "        # now create a bunch of random examples\n",
    "        examples = cls._uniform_rand(samples,features)\n",
    "        \n",
    "        # square all examples\n",
    "        examples_squared = examples**2\n",
    "                            \n",
    "        # now do the inner product of the weights with the examples\n",
    "        decision = np.dot(examples_squared,weights)\n",
    "        \n",
    "        # set class threshold that balances dataset\n",
    "        for threshold in np.linspace(decision.min(),decision.max(),100):\n",
    "            class_assignment = decision > threshold\n",
    "            # good threshold when at least half of data is one class\n",
    "            if np.count_nonzero(class_assignment) <= samples/2:\n",
    "                class_assignment = 2*((decision > threshold)-0.5)\n",
    "                break\n",
    "        \n",
    "        # return assignment and examples\n",
    "        return class_assignment,examples\n",
    "    \n",
    "    @staticmethod\n",
    "    def _uniform_rand(*args,**kwargs):\n",
    "        \"\"\"\n",
    "            Generates a uniform random variable from -1 to 1\n",
    "        \"\"\"\n",
    "        return (np.random.rand(*args,**kwargs)-0.5)*2\n",
    "    \n",
    "# create data\n",
    "data = Dataset.linear()\n",
    "\n",
    "# get each class\n",
    "class1 = data[0] == 1\n",
    "class2 = data[0] == -1\n",
    "\n",
    "# visualize data\n",
    "plt.figure(figsize=(8,4))\n",
    "plt.scatter(data[1][class1,0],data[1][class1,1],marker='.')\n",
    "plt.scatter(data[1][class2,0],data[1][class2,1],marker='x')\n",
    "plt.xlim(-1,1); plt.ylim(-1,1)\n",
    "plt.xlabel('x1'); plt.ylabel('x2')\n",
    "plt.title('Data');"
   ]
  },
  {
   "cell_type": "code",
   "execution_count": 4,
   "metadata": {},
   "outputs": [],
   "source": [
    "\"\"\"\n",
    "LDA\n",
    "\"\"\"\n",
    "# calculate means of each class\n",
    "u1 = np.mean(data[1][class1,:],axis=0)\n",
    "u2 = np.mean(data[1][class2,:],axis=0)\n",
    "\n",
    "# calculate scatter matrix between 2 classes\n",
    "S1 = np.matmul(\n",
    "    (data[1][class1,:] - u1).T,\n",
    "    (data[1][class1,:] - u1))\n",
    "S2 = np.matmul(\n",
    "    (data[1][class2,:] - u2).T,\n",
    "    (data[1][class2,:] - u2))\n",
    "Sw = S1 + S2\n",
    "\n",
    "# Do LDA on data\n",
    "w = np.matmul(np.linalg.inv(Sw),(u1-u2))"
   ]
  },
  {
   "cell_type": "code",
   "execution_count": 5,
   "metadata": {},
   "outputs": [
    {
     "data": {
      "image/png": "[encoded data removed]",
      "text/plain": [
       "<Figure size 576x288 with 1 Axes>"
      ]
     },
     "metadata": {
      "needs_background": "light"
     },
     "output_type": "display_data"
    }
   ],
   "source": [
    "# transform data with LDA\n",
    "plt.figure(figsize=(8,4))\n",
    "t = np.dot(data[1],w)\n",
    "plt.scatter(t[class1],np.zeros((t[class1].shape[0],1)),marker='.')\n",
    "plt.scatter(t[class2],np.zeros((t[class2].shape[0],1)),marker='x')\n",
    "plt.title('LDA'); plt.xlabel('Test Statistic');"
   ]
  },
  {
   "cell_type": "code",
   "execution_count": 6,
   "metadata": {},
   "outputs": [
    {
     "data": {
      "image/png": "[encoded data removed]",
      "text/plain": [
       "<Figure size 576x288 with 1 Axes>"
      ]
     },
     "metadata": {
      "needs_background": "light"
     },
     "output_type": "display_data"
    }
   ],
   "source": [
    "\"\"\"\n",
    "PCA\n",
    "\"\"\"\n",
    "# get covariance matrix of data\n",
    "sigma = np.cov(data[1].T)\n",
    "\n",
    "# do eigen decomposition on covariance matrix\n",
    "[e_vals, e_vecs] = np.linalg.eig(sigma)\n",
    "\n",
    "# Project onto principal components\n",
    "t1 = np.dot(data[1],e_vecs[:,1])\n",
    "t2 = np.dot(data[1],e_vecs[:,0])\n",
    "\n",
    "# Plot PCA\n",
    "plt.figure(figsize=(8,4))\n",
    "plt.scatter(t1[class1],t2[class1],marker='.')\n",
    "plt.scatter(t1[class2],t2[class2],marker='x')\n",
    "plt.xlabel('1st Principal Component'); plt.ylabel('2nd Principal Component');\n",
    "plt.title('PCA');"
   ]
  }
 ],
 "metadata": {
  "kernelspec": {
   "display_name": "Python 3",
   "language": "python",
   "name": "python3"
  },
  "language_info": {
   "codemirror_mode": {
    "name": "ipython",
    "version": 3
   },
   "file_extension": ".py",
   "mimetype": "text/x-python",
   "name": "python",
   "nbconvert_exporter": "python",
   "pygments_lexer": "ipython3",
   "version": "3.7.2"
  }
 },
 "nbformat": 4,
 "nbformat_minor": 2
}
