{
 "cells": [
  {
   "cell_type": "code",
   "execution_count": 1,
   "metadata": {},
   "outputs": [],
   "source": [
    "# from IPython.display import HTML\n",
    "# HTML('''<script>\n",
    "# code_show=true; \n",
    "# function code_toggle() {\n",
    "#  if (code_show){\n",
    "#  $('div.input').hide();\n",
    "#  } else {\n",
    "#  $('div.input').show();\n",
    "#  }\n",
    "#  code_show = !code_show\n",
    "# } \n",
    "# $( document ).ready(code_toggle);\n",
    "# </script>\n",
    "# <a href=\"javascript:code_toggle()\">\n",
    "# <button>Toggle Code</button></a>''')"
   ]
  },
  {
   "cell_type": "code",
   "execution_count": 3,
   "metadata": {},
   "outputs": [],
   "source": [
    "# import libraries\n",
    "import numpy as np\n",
    "import scipy.io as sio\n",
    "import matplotlib.pyplot as plt\n",
    "\n",
    "# set random seed\n",
    "np.random.seed(1000)"
   ]
  },
  {
   "cell_type": "code",
   "execution_count": 4,
   "metadata": {},
   "outputs": [],
   "source": [
    "# import mnist data\n",
    "mnist = sio.loadmat('mnist_all.mat')\n",
    "\n",
    "# split training and test data\n",
    "training_data = dict()\n",
    "test_data = dict()\n",
    "for key in mnist:\n",
    "    if \"train\" in key:\n",
    "        # store the data under digit key\n",
    "        training_data[int(key[-1])] = mnist[key]\n",
    "    if \"test\" in key:\n",
    "        # store the data under digit key\n",
    "        test_data[int(key[-1])] = mnist[key]"
   ]
  },
  {
   "cell_type": "code",
   "execution_count": 5,
   "metadata": {},
   "outputs": [],
   "source": [
    "# Define function for formatting data and labels\n",
    "def format_data(data_input):\n",
    "    # unpack input into data and labels\n",
    "    data = np.zeros((0,data_input[0].shape[1]))\n",
    "    labels = np.zeros((0,len(data_input)))\n",
    "    for number in data_input:\n",
    "        # concatenate data of each digit to array\n",
    "        data = np.concatenate((data,data_input[number]),axis=0)\n",
    "\n",
    "        # create labels\n",
    "        lb = (np.zeros((data_input[number].shape[0],len(data_input))))\n",
    "        lb[:,number] = 1\n",
    "\n",
    "        # concatenate labels to array\n",
    "        labels = np.concatenate((labels,lb),axis=0)\n",
    "        \n",
    "    # scale data from [0,255] to [0,1]\n",
    "    data = data/255\n",
    "\n",
    "    # add bias term to data_input\n",
    "    bias = np.ones((data.shape[0],1))\n",
    "    data = np.concatenate((bias,data),axis=1)\n",
    "    \n",
    "    # return data and labels\n",
    "    return data, labels"
   ]
  },
  {
   "cell_type": "code",
   "execution_count": null,
   "metadata": {},
   "outputs": [],
   "source": []
  }
 ],
 "metadata": {
  "kernelspec": {
   "display_name": "Python 3",
   "language": "python",
   "name": "python3"
  },
  "language_info": {
   "codemirror_mode": {
    "name": "ipython",
    "version": 3
   },
   "file_extension": ".py",
   "mimetype": "text/x-python",
   "name": "python",
   "nbconvert_exporter": "python",
   "pygments_lexer": "ipython3",
   "version": "3.7.2"
  }
 },
 "nbformat": 4,
 "nbformat_minor": 2
}
