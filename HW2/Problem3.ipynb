{
 "cells": [
  {
   "cell_type": "markdown",
   "metadata": {},
   "source": [
    "# Problem 3"
   ]
  },
  {
   "cell_type": "code",
   "execution_count": 1,
   "metadata": {},
   "outputs": [
    {
     "data": {
      "text/html": [
       "<script>\n",
       "code_show=true; \n",
       "function code_toggle() {\n",
       " if (code_show){\n",
       " $('div.input').hide();\n",
       " } else {\n",
       " $('div.input').show();\n",
       " }\n",
       " code_show = !code_show\n",
       "} \n",
       "$( document ).ready(code_toggle);\n",
       "</script>\n",
       "<a href=\"javascript:code_toggle()\">\n",
       "<button>Toggle Code</button></a>"
      ],
      "text/plain": [
       "<IPython.core.display.HTML object>"
      ]
     },
     "execution_count": 1,
     "metadata": {},
     "output_type": "execute_result"
    }
   ],
   "source": [
    "from IPython.display import HTML\n",
    "HTML('''<script>\n",
    "code_show=true; \n",
    "function code_toggle() {\n",
    " if (code_show){\n",
    " $('div.input').hide();\n",
    " } else {\n",
    " $('div.input').show();\n",
    " }\n",
    " code_show = !code_show\n",
    "} \n",
    "$( document ).ready(code_toggle);\n",
    "</script>\n",
    "<a href=\"javascript:code_toggle()\">\n",
    "<button>Toggle Code</button></a>''')"
   ]
  },
  {
   "cell_type": "code",
   "execution_count": 2,
   "metadata": {},
   "outputs": [],
   "source": [
    "# import libraries\n",
    "import numpy as np\n",
    "import matplotlib.pyplot as plt\n",
    "\n",
    "# set random seed\n",
    "np.random.seed(1000)"
   ]
  },
  {
   "cell_type": "code",
   "execution_count": 3,
   "metadata": {
    "scrolled": false
   },
   "outputs": [],
   "source": [
    "\"\"\"\n",
    "    Create 100 random points from different distributions\n",
    "\"\"\"\n",
    "# uniform\n",
    "uniform = np.random.rand(100,2)\n",
    "\n",
    "# gaussian\n",
    "gaussian = np.random.randn(100,2)\n",
    "\n",
    "# poisson\n",
    "poisson = np.random.poisson(3,(100,2))"
   ]
  },
  {
   "cell_type": "code",
   "execution_count": 4,
   "metadata": {},
   "outputs": [],
   "source": [
    "\"\"\"\n",
    "    Create SOM\n",
    "\"\"\"\n",
    "class SOM:\n",
    "    \"\"\"\n",
    "        A self organizing map\n",
    "    \"\"\"\n",
    "    def __init__(self,data_input,lr=400,lt=1,nr=400,nt=3,iterations=1000):\n",
    "        \"\"\"\n",
    "            Initialization\n",
    "        \"\"\"\n",
    "        # store the input\n",
    "        self.data = data_input\n",
    "        \n",
    "        # store learning rates\n",
    "        self.lr = lambda t: lt*np.exp(-t/lr)\n",
    "        self.nr = lambda t: nt*np.exp(-t/nr)\n",
    "        \n",
    "        # store iterations\n",
    "        self.iterations = iterations\n",
    "        \n",
    "        # create the weights\n",
    "        self.w = np.random.rand(10,10,2)\n",
    "        \n",
    "        # set neighborhood (I use a 2D gaussian)\n",
    "        self.neighborhood = lambda sigma: self.gkern(sig=sigma)\n",
    "        \n",
    "    def train(self):\n",
    "        \"\"\"\n",
    "            Train the SOM\n",
    "        \"\"\" \n",
    "        for i in range(self.iterations):\n",
    "            # choose a random input\n",
    "            idx = int(np.round(np.random.rand()*99))\n",
    "            selected_input = self.data[idx,:]\n",
    "\n",
    "            # Initialize small distance value\n",
    "            smallest_distance = 999999\n",
    "\n",
    "            # set initial BMU (best matching unit)\n",
    "            BMU = (100,100)\n",
    "\n",
    "            # loop over every node in map\n",
    "            for i,w_x1 in enumerate(self.w):\n",
    "                for j,node_weight in enumerate(w_x1):\n",
    "                    # get L2 norm\n",
    "                    L2 = np.linalg.norm(node_weight-selected_input,2)\n",
    "\n",
    "                    # if L2 < smallest distance, then store value and idx\n",
    "                    if L2 < smallest_distance:\n",
    "                        smallest_distance = L2\n",
    "                        BMU = (i,j)\n",
    "\n",
    "            # Update weight vectors of the nodes in neighborhood of BMU\n",
    "            # and pull them closer to input vector\n",
    "\n",
    "            # calculate the difference between BMU and input\n",
    "            diff = (selected_input - self.w[BMU[0],BMU[1]])\n",
    "\n",
    "            # update weights in neighborhood\n",
    "            for n in self.neighborhood(self.nr(i)):\n",
    "                try:\n",
    "                    self.w[BMU[0]+n[0],BMU[1]+n[1]] = (self.w[BMU[0]+n[0],BMU[1]+n[1]]\n",
    "                        + n[2]*self.lr(i)*diff)\n",
    "                except IndexError:\n",
    "                    pass\n",
    "        \n",
    "        # return weights\n",
    "        return self.w\n",
    "    \n",
    "    @staticmethod\n",
    "    def gkern(sig, n=7):\n",
    "        \"\"\"\n",
    "            creates gaussian kernel look up table\n",
    "        \"\"\"\n",
    "        # create gaussian kernel\n",
    "        ax = np.arange(-n // 2 + 1., n // 2 + 1.)\n",
    "        xx, yy = np.meshgrid(ax, ax)\n",
    "        kernel = np.exp(-0.5 * (np.square(xx) + np.square(yy)) / np.square(sig))\n",
    "        gk = kernel / np.sum(kernel)\n",
    "        \n",
    "        # now create lookup table\n",
    "        c = int(np.floor(n/2))\n",
    "        lookup_table = []\n",
    "        for i in range(n):\n",
    "            for j in range(n):\n",
    "                lookup_table.append([i-c,j-c,gk[i,j]])\n",
    "        return lookup_table"
   ]
  },
  {
   "cell_type": "code",
   "execution_count": 5,
   "metadata": {},
   "outputs": [],
   "source": [
    "\"\"\"\n",
    "    Train SOMs\n",
    "\"\"\"\n",
    "weight_uniform = SOM(uniform).train().reshape(100,2)\n",
    "weight_gaussian = SOM(gaussian).train().reshape(100,2)\n",
    "weight_poisson = SOM(poisson).train().reshape(100,2)"
   ]
  },
  {
   "cell_type": "code",
   "execution_count": 6,
   "metadata": {},
   "outputs": [
    {
     "data": {
      "image/png": "[encoded data removed]",
      "text/plain": [
       "<Figure size 1152x576 with 1 Axes>"
      ]
     },
     "metadata": {
      "needs_background": "light"
     },
     "output_type": "display_data"
    },
    {
     "data": {
      "image/png": "[encoded data removed]",
      "text/plain": [
       "<Figure size 1152x576 with 1 Axes>"
      ]
     },
     "metadata": {
      "needs_background": "light"
     },
     "output_type": "display_data"
    },
    {
     "data": {
      "image/png": "[encoded data removed]",
      "text/plain": [
       "<Figure size 1152x576 with 1 Axes>"
      ]
     },
     "metadata": {
      "needs_background": "light"
     },
     "output_type": "display_data"
    }
   ],
   "source": [
    "\"\"\"\n",
    "    Plot Stuff\n",
    "\"\"\"\n",
    "# Uniform\n",
    "plt.figure(figsize=(16,8))\n",
    "plt.scatter(weight_uniform[:,0],weight_uniform[:,1])\n",
    "plt.title('Uniform')\n",
    "plt.xlabel('w1'); plt.ylabel('w2')\n",
    "plt.xlim(0,1); plt.ylim(0,1); \n",
    "\n",
    "# Gaussian\n",
    "plt.figure(figsize=(16,8))\n",
    "plt.scatter(weight_gaussian[:,0],weight_gaussian[:,1])\n",
    "plt.title('Gaussian')\n",
    "plt.xlabel('w1'); plt.ylabel('w2')\n",
    "plt.xlim(-3,3); plt.ylim(-3,3); \n",
    "\n",
    "# Poisson\n",
    "plt.figure(figsize=(16,8))\n",
    "plt.scatter(weight_poisson[:,0],weight_poisson[:,1])\n",
    "plt.title('Poisson')\n",
    "plt.xlabel('w1'); plt.ylabel('w2')\n",
    "plt.xlim(0,10); plt.ylim(0,10); \n",
    "\n",
    "# Show images\n",
    "plt.show()"
   ]
  }
 ],
 "metadata": {
  "kernelspec": {
   "display_name": "Python 3",
   "language": "python",
   "name": "python3"
  },
  "language_info": {
   "codemirror_mode": {
    "name": "ipython",
    "version": 3
   },
   "file_extension": ".py",
   "mimetype": "text/x-python",
   "name": "python",
   "nbconvert_exporter": "python",
   "pygments_lexer": "ipython3",
   "version": "3.7.2"
  }
 },
 "nbformat": 4,
 "nbformat_minor": 2
}
