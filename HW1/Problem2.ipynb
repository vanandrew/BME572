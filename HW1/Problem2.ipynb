{
 "cells": [
  {
   "cell_type": "code",
   "execution_count": 1,
   "metadata": {},
   "outputs": [],
   "source": [
    "%matplotlib inline\n",
    "# Import libraries\n",
    "import numpy as np\n",
    "import matplotlib.pyplot as plt"
   ]
  },
  {
   "cell_type": "code",
   "execution_count": 2,
   "metadata": {},
   "outputs": [],
   "source": [
    "\"\"\"\n",
    "    Define the Integrate-and-Fire class\n",
    "\"\"\"\n",
    "\n",
    "class integrate_and_fire:\n",
    "    \"\"\"\n",
    "        A class representing the integrate and fire neuron model\n",
    "    \"\"\"\n",
    "    def __init__(self, R=10, C=1, Vthr=5, Vspk=70, I=0.001, It=50, It_start=10):\n",
    "        \"\"\"\n",
    "            Defined Constants/Initial values:\n",
    "            R = 10 MOhm\n",
    "            C = 1 nF\n",
    "            Vthr = 5 mV\n",
    "            Vspk = 70 mV\n",
    "            I = 1 nA\n",
    "            It = 50 ms\n",
    "            It_start = 10 ms\n",
    "        \"\"\"\n",
    "        \n",
    "        # Assign values to object parameters\n",
    "        self.R = R\n",
    "        self.C = C\n",
    "        self.Vthr = Vthr\n",
    "        self.Vspk = Vspk\n",
    "        self.I = I\n",
    "        self.It = It\n",
    "        self.It_start = It_start\n",
    "        self.V = 0 # set initial voltage\n",
    "        \n",
    "        # Create list to store V values\n",
    "        self.V_vals = []\n",
    "        \n",
    "        # create counter to determine current step\n",
    "        self.counter = 0\n",
    "        \n",
    "        # set reset flag so we can reset voltage\n",
    "        self.reset = False\n",
    "        \n",
    "    def new_voltage(self, V, I, time_step=1):\n",
    "        \"\"\"\n",
    "            Calculates new voltage using Euler's method\n",
    "        \"\"\"\n",
    "        return self.V + time_step*(I - (V/self.R))/self.C\n",
    "    \n",
    "    def set_voltage(self,V):\n",
    "        \"\"\"\n",
    "            Sets appropriate voltage compared to threshold\n",
    "        \"\"\"\n",
    "        # check if voltage less than threshold\n",
    "        if V < self.Vthr:\n",
    "            return V\n",
    "        else: # if over threshold, set voltage to Vspk, next V will be 0\n",
    "            self.reset = True\n",
    "            return self.Vspk    \n",
    "    \n",
    "    def step(self, time_step=1):\n",
    "        \"\"\"\n",
    "            Runs one step of the model\n",
    "        \"\"\"\n",
    "        # set current injection start/duration\n",
    "        if self.counter > self.It_start and self.counter <= self.It_start+self.It:\n",
    "            I = self.I\n",
    "        else:\n",
    "            I = 0\n",
    "        self.counter += 1 # increment counter\n",
    "        \n",
    "        # reset voltage if flag set\n",
    "        if self.reset:\n",
    "            self.V = 0\n",
    "            \n",
    "            # \"reset\" reset flag\n",
    "            self.reset = False\n",
    "        else:\n",
    "            # calculate new voltage\n",
    "            V = self.new_voltage(self.V, I)\n",
    "        \n",
    "            # set new voltage\n",
    "            self.V = self.set_voltage(V)\n",
    "            \n",
    "        # append voltage to list\n",
    "        self.V_vals.append(self.V)\n",
    "        "
   ]
  },
  {
   "cell_type": "code",
   "execution_count": 3,
   "metadata": {},
   "outputs": [
    {
     "data": {
      "image/png": "[encoded data removed]",
      "text/plain": [
       "<Figure size 432x288 with 1 Axes>"
      ]
     },
     "metadata": {
      "needs_background": "light"
     },
     "output_type": "display_data"
    }
   ],
   "source": [
    "\"\"\"\n",
    "    Run model\n",
    "\"\"\"\n",
    "def run_model(model, iterations=200):\n",
    "    # run model for iterations\n",
    "    for _ in range(iterations):\n",
    "        iafmodel.step()\n",
    "    \n",
    "    # set time\n",
    "    time = [i for i in range(iterations)]\n",
    "    \n",
    "    # plot voltage\n",
    "    plt.figure()\n",
    "    plt.plot(time, model.V_vals)\n",
    "    plt.show()\n",
    "    \n",
    "# create integrate and fire model with defaults\n",
    "iafmodel = integrate_and_fire()\n",
    "\n",
    "# run model\n",
    "run_model(iafmodel)"
   ]
  },
  {
   "cell_type": "code",
   "execution_count": null,
   "metadata": {},
   "outputs": [],
   "source": []
  }
 ],
 "metadata": {
  "kernelspec": {
   "display_name": "Python 3",
   "language": "python",
   "name": "python3"
  },
  "language_info": {
   "codemirror_mode": {
    "name": "ipython",
    "version": 3
   },
   "file_extension": ".py",
   "mimetype": "text/x-python",
   "name": "python",
   "nbconvert_exporter": "python",
   "pygments_lexer": "ipython3",
   "version": "3.7.2"
  }
 },
 "nbformat": 4,
 "nbformat_minor": 2
}
