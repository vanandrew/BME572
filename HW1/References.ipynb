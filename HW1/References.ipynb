{
 "cells": [
  {
   "cell_type": "markdown",
   "metadata": {},
   "source": [
    "#### References\n",
    "\n",
    "1. E. M. Izhikevich, Simple model of spiking neurons, IEEE Transactions on Neura Networks, Vol. 14, no. 6, pp. 1569-1572, 2003.\n",
    "\n",
    "2. Geffen, MN, Broome, BM, Laurent, G and Meister, M. (2009). “Neural encoding of rapidly fluctuating odors.” Neuron 61(4): 570-586\n",
    "\n",
    "3. Heeger, D., 2000. Poisson model of spike generation. Handout, University of Standford, 5, pp.1-13."
   ]
  }
 ],
 "metadata": {
  "kernelspec": {
   "display_name": "Python 3",
   "language": "python",
   "name": "python3"
  },
  "language_info": {
   "codemirror_mode": {
    "name": "ipython",
    "version": 3
   },
   "file_extension": ".py",
   "mimetype": "text/x-python",
   "name": "python",
   "nbconvert_exporter": "python",
   "pygments_lexer": "ipython3",
   "version": "3.7.2"
  }
 },
 "nbformat": 4,
 "nbformat_minor": 2
}
